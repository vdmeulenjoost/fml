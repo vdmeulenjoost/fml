{
 "cells": [
  {
   "cell_type": "markdown",
   "metadata": {},
   "source": [
    "# Linear regression example\n",
    "In this example, we are again using a dataset with [YouTube statistics from the top 5000 channels](https://www.kaggle.com/mdhrumil/top-5000-youtube-channels-data-from-socialblade)"
   ]
  },
  {
   "cell_type": "code",
   "execution_count": 1,
   "metadata": {},
   "outputs": [],
   "source": [
    "import seaborn as sns\n",
    "import sklearn as sk #this is the most popular library for statistics and machine learning\n",
    "import pandas as pd\n",
    "import matplotlib.pyplot as plt "
   ]
  },
  {
   "cell_type": "code",
   "execution_count": 2,
   "metadata": {},
   "outputs": [
    {
     "data": {
      "text/html": [
       "<div>\n",
       "<style scoped>\n",
       "    .dataframe tbody tr th:only-of-type {\n",
       "        vertical-align: middle;\n",
       "    }\n",
       "\n",
       "    .dataframe tbody tr th {\n",
       "        vertical-align: top;\n",
       "    }\n",
       "\n",
       "    .dataframe thead th {\n",
       "        text-align: right;\n",
       "    }\n",
       "</style>\n",
       "<table border=\"1\" class=\"dataframe\">\n",
       "  <thead>\n",
       "    <tr style=\"text-align: right;\">\n",
       "      <th></th>\n",
       "      <th>name</th>\n",
       "      <th>uploads</th>\n",
       "      <th>subscribers</th>\n",
       "      <th>views</th>\n",
       "    </tr>\n",
       "  </thead>\n",
       "  <tbody>\n",
       "    <tr>\n",
       "      <th>644</th>\n",
       "      <td>PewDiePie</td>\n",
       "      <td>3601</td>\n",
       "      <td>65995310</td>\n",
       "      <td>18684630003</td>\n",
       "    </tr>\n",
       "    <tr>\n",
       "      <th>275</th>\n",
       "      <td>T-Series</td>\n",
       "      <td>12661</td>\n",
       "      <td>61196302</td>\n",
       "      <td>47548839843</td>\n",
       "    </tr>\n",
       "    <tr>\n",
       "      <th>1724</th>\n",
       "      <td>Canal KondZilla</td>\n",
       "      <td>822</td>\n",
       "      <td>39409726</td>\n",
       "      <td>19291034467</td>\n",
       "    </tr>\n",
       "    <tr>\n",
       "      <th>3264</th>\n",
       "      <td>Dude Perfect</td>\n",
       "      <td>185</td>\n",
       "      <td>34489432</td>\n",
       "      <td>6095981611</td>\n",
       "    </tr>\n",
       "    <tr>\n",
       "      <th>3529</th>\n",
       "      <td>HolaSoyGerman.</td>\n",
       "      <td>137</td>\n",
       "      <td>34480357</td>\n",
       "      <td>3617584451</td>\n",
       "    </tr>\n",
       "    <tr>\n",
       "      <th>3621</th>\n",
       "      <td>JustinBieberVEVO</td>\n",
       "      <td>123</td>\n",
       "      <td>34284457</td>\n",
       "      <td>17806717170</td>\n",
       "    </tr>\n",
       "    <tr>\n",
       "      <th>3627</th>\n",
       "      <td>Ed Sheeran</td>\n",
       "      <td>122</td>\n",
       "      <td>33961184</td>\n",
       "      <td>14521211040</td>\n",
       "    </tr>\n",
       "    <tr>\n",
       "      <th>962</th>\n",
       "      <td>5-Minute Crafts</td>\n",
       "      <td>2085</td>\n",
       "      <td>33492951</td>\n",
       "      <td>8587520379</td>\n",
       "    </tr>\n",
       "    <tr>\n",
       "      <th>120</th>\n",
       "      <td>WWE</td>\n",
       "      <td>36756</td>\n",
       "      <td>32852346</td>\n",
       "      <td>26273668433</td>\n",
       "    </tr>\n",
       "    <tr>\n",
       "      <th>2596</th>\n",
       "      <td>whinderssonnunes</td>\n",
       "      <td>349</td>\n",
       "      <td>31332790</td>\n",
       "      <td>2574018722</td>\n",
       "    </tr>\n",
       "  </tbody>\n",
       "</table>\n",
       "</div>"
      ],
      "text/plain": [
       "                  name  uploads  subscribers        views\n",
       "644          PewDiePie     3601     65995310  18684630003\n",
       "275           T-Series    12661     61196302  47548839843\n",
       "1724   Canal KondZilla      822     39409726  19291034467\n",
       "3264      Dude Perfect      185     34489432   6095981611\n",
       "3529    HolaSoyGerman.      137     34480357   3617584451\n",
       "3621  JustinBieberVEVO      123     34284457  17806717170\n",
       "3627        Ed Sheeran      122     33961184  14521211040\n",
       "962    5-Minute Crafts     2085     33492951   8587520379\n",
       "120                WWE    36756     32852346  26273668433\n",
       "2596  whinderssonnunes      349     31332790   2574018722"
      ]
     },
     "execution_count": 2,
     "metadata": {},
     "output_type": "execute_result"
    }
   ],
   "source": [
    "df = pd.read_csv('youtube.csv')\n",
    "df = df.sort_values(by='subscribers', ascending=False) #sort the data set to see the biggest channels first\n",
    "\n",
    "df.head(10)"
   ]
  },
  {
   "cell_type": "markdown",
   "metadata": {},
   "source": [
    "Again, these big numbers are kind of hard to work with. Let's divide the subscribers and views by a million to get \"millions of subscribers\" and \"millions of views\"."
   ]
  },
  {
   "cell_type": "code",
   "execution_count": 3,
   "metadata": {},
   "outputs": [],
   "source": [
    "df['subscribers_m'] = df['subscribers'] / 1000000\n",
    "df['views_m'] = df['views'] / 1000000"
   ]
  },
  {
   "cell_type": "markdown",
   "metadata": {},
   "source": [
    "Let's see if we can find a relation between subscribers and views. Let's first plot the relation. We'll plot subscribers on the x-asis, because subscribers are more likely to be the cause of views, than vice versa. That is, subscribers is our _independent_ variable, views our _dependent variable_."
   ]
  },
  {
   "cell_type": "code",
   "execution_count": 4,
   "metadata": {},
   "outputs": [
    {
     "data": {
      "image/png": "[encoded data removed]",
      "text/plain": [
       "<matplotlib.figure.Figure at 0x20c76b39b00>"
      ]
     },
     "metadata": {
      "needs_background": "light"
     },
     "output_type": "display_data"
    }
   ],
   "source": [
    "sns.lmplot(x='subscribers_m', y='views_m', fit_reg=False, data=df) #fit_reg=False leaves out the regression line; see below\n",
    "plt.xlabel('Subscribers (millions)')\n",
    "plt.ylabel('Views (millions)')\n",
    "plt.title('YouTube channels subscribers and views')\n",
    "plt.show()"
   ]
  },
  {
   "cell_type": "markdown",
   "metadata": {},
   "source": [
    "There are a few things to note here:\n",
    "1. First, the data seem to fit a linear pattern: you can draw a straight line to fit the points\n",
    "2. However, there is quite a bit of variation around this line. Some points will be above it, some below.\n",
    "3. This variation seems to increase with the number of subscribers. That is, the more subscribers, the more uncertain the relation between subscribers and views.\n",
    "\n",
    "Let's draw the line. In fact, Seaborn will automatically fit a line if you do not include the `fit_reg=False` argument:"
   ]
  },
  {
   "cell_type": "code",
   "execution_count": 5,
   "metadata": {},
   "outputs": [
    {
     "data": {
      "image/png": "[encoded data removed]",
      "text/plain": [
       "<matplotlib.figure.Figure at 0x20c76739630>"
      ]
     },
     "metadata": {
      "needs_background": "light"
     },
     "output_type": "display_data"
    }
   ],
   "source": [
    "sns.lmplot(x='subscribers_m', y='views_m', data=df, ci=False) #The last argument leaves out a so-called \"confidence interval\"\n",
    "plt.title('YouTube channels subscribers and views')\n",
    "plt.xlabel('Subscribers (millions)')\n",
    "plt.ylabel('Views (millions)')\n",
    "plt.show()"
   ]
  },
  {
   "cell_type": "markdown",
   "metadata": {},
   "source": [
    "Let's fit a linear model to determine the coefficients of the line. We'll do this with the machine learning package `sk-learn`."
   ]
  },
  {
   "cell_type": "code",
   "execution_count": 6,
   "metadata": {},
   "outputs": [
    {
     "name": "stdout",
     "output_type": "stream",
     "text": [
      "The regression line is equal to y = 45.78 + 416.79X\n"
     ]
    }
   ],
   "source": [
    "from sklearn.linear_model import LinearRegression #we need this specific model from sk-learn\n",
    "\n",
    "#To use sk-learn, we need to create lists of the two variables\n",
    "#Note that you need to use [[ ]] with x. This creates a Pandas Data Frame (table), rather than a Pandas Series (list).\n",
    "#lm.fit needs a Data Frame (or matrix) for x, because x can be multiple variables\n",
    "x = df[['subscribers_m']] \n",
    "y = df['views_m']\n",
    "lm = LinearRegression() #this creates a new LR model\n",
    "lm.fit(x, y) #this \"fits\" the model\n",
    "\n",
    "b0 = lm.intercept_ #gets the intercept\n",
    "b1 = lm.coef_[0] #lm.coef_ gets a list of coefficients (excluding the intercept). [0] gets the actual number from the list\n",
    "\n",
    "print(f\"The regression line is equal to y = {b0:.2f} + {b1:.2f}X\") #.0f formats to 2 decimals. "
   ]
  },
  {
   "cell_type": "markdown",
   "metadata": {},
   "source": [
    "Or, in a pretty Markdown formula (using $ to begin and end a formula):\n",
    "\n",
    "$y= 45.78 + 416.79x$\n",
    "\n",
    "Where _y_ is views in millions and _x_ is subscribers in millions.\n",
    "\n",
    "Now, let's use our model to predict the values for all channels in our dataset:"
   ]
  },
  {
   "cell_type": "code",
   "execution_count": 7,
   "metadata": {},
   "outputs": [
    {
     "data": {
      "text/html": [
       "<div>\n",
       "<style scoped>\n",
       "    .dataframe tbody tr th:only-of-type {\n",
       "        vertical-align: middle;\n",
       "    }\n",
       "\n",
       "    .dataframe tbody tr th {\n",
       "        vertical-align: top;\n",
       "    }\n",
       "\n",
       "    .dataframe thead th {\n",
       "        text-align: right;\n",
       "    }\n",
       "</style>\n",
       "<table border=\"1\" class=\"dataframe\">\n",
       "  <thead>\n",
       "    <tr style=\"text-align: right;\">\n",
       "      <th></th>\n",
       "      <th>name</th>\n",
       "      <th>uploads</th>\n",
       "      <th>subscribers</th>\n",
       "      <th>views</th>\n",
       "      <th>subscribers_m</th>\n",
       "      <th>views_m</th>\n",
       "      <th>views_p</th>\n",
       "    </tr>\n",
       "  </thead>\n",
       "  <tbody>\n",
       "    <tr>\n",
       "      <th>644</th>\n",
       "      <td>PewDiePie</td>\n",
       "      <td>3601</td>\n",
       "      <td>65995310</td>\n",
       "      <td>18684630003</td>\n",
       "      <td>65.995310</td>\n",
       "      <td>18684.630003</td>\n",
       "      <td>27551.986311</td>\n",
       "    </tr>\n",
       "    <tr>\n",
       "      <th>275</th>\n",
       "      <td>T-Series</td>\n",
       "      <td>12661</td>\n",
       "      <td>61196302</td>\n",
       "      <td>47548839843</td>\n",
       "      <td>61.196302</td>\n",
       "      <td>47548.839843</td>\n",
       "      <td>25551.805926</td>\n",
       "    </tr>\n",
       "    <tr>\n",
       "      <th>1724</th>\n",
       "      <td>Canal KondZilla</td>\n",
       "      <td>822</td>\n",
       "      <td>39409726</td>\n",
       "      <td>19291034467</td>\n",
       "      <td>39.409726</td>\n",
       "      <td>19291.034467</td>\n",
       "      <td>16471.370559</td>\n",
       "    </tr>\n",
       "    <tr>\n",
       "      <th>3264</th>\n",
       "      <td>Dude Perfect</td>\n",
       "      <td>185</td>\n",
       "      <td>34489432</td>\n",
       "      <td>6095981611</td>\n",
       "      <td>34.489432</td>\n",
       "      <td>6095.981611</td>\n",
       "      <td>14420.639336</td>\n",
       "    </tr>\n",
       "    <tr>\n",
       "      <th>3529</th>\n",
       "      <td>HolaSoyGerman.</td>\n",
       "      <td>137</td>\n",
       "      <td>34480357</td>\n",
       "      <td>3617584451</td>\n",
       "      <td>34.480357</td>\n",
       "      <td>3617.584451</td>\n",
       "      <td>14416.856963</td>\n",
       "    </tr>\n",
       "    <tr>\n",
       "      <th>3621</th>\n",
       "      <td>JustinBieberVEVO</td>\n",
       "      <td>123</td>\n",
       "      <td>34284457</td>\n",
       "      <td>17806717170</td>\n",
       "      <td>34.284457</td>\n",
       "      <td>17806.717170</td>\n",
       "      <td>14335.207727</td>\n",
       "    </tr>\n",
       "    <tr>\n",
       "      <th>3627</th>\n",
       "      <td>Ed Sheeran</td>\n",
       "      <td>122</td>\n",
       "      <td>33961184</td>\n",
       "      <td>14521211040</td>\n",
       "      <td>33.961184</td>\n",
       "      <td>14521.211040</td>\n",
       "      <td>14200.470650</td>\n",
       "    </tr>\n",
       "    <tr>\n",
       "      <th>962</th>\n",
       "      <td>5-Minute Crafts</td>\n",
       "      <td>2085</td>\n",
       "      <td>33492951</td>\n",
       "      <td>8587520379</td>\n",
       "      <td>33.492951</td>\n",
       "      <td>8587.520379</td>\n",
       "      <td>14005.315638</td>\n",
       "    </tr>\n",
       "    <tr>\n",
       "      <th>120</th>\n",
       "      <td>WWE</td>\n",
       "      <td>36756</td>\n",
       "      <td>32852346</td>\n",
       "      <td>26273668433</td>\n",
       "      <td>32.852346</td>\n",
       "      <td>26273.668433</td>\n",
       "      <td>13738.317634</td>\n",
       "    </tr>\n",
       "    <tr>\n",
       "      <th>2596</th>\n",
       "      <td>whinderssonnunes</td>\n",
       "      <td>349</td>\n",
       "      <td>31332790</td>\n",
       "      <td>2574018722</td>\n",
       "      <td>31.332790</td>\n",
       "      <td>2574.018722</td>\n",
       "      <td>13104.981306</td>\n",
       "    </tr>\n",
       "  </tbody>\n",
       "</table>\n",
       "</div>"
      ],
      "text/plain": [
       "                  name  uploads  subscribers        views  subscribers_m  \\\n",
       "644          PewDiePie     3601     65995310  18684630003      65.995310   \n",
       "275           T-Series    12661     61196302  47548839843      61.196302   \n",
       "1724   Canal KondZilla      822     39409726  19291034467      39.409726   \n",
       "3264      Dude Perfect      185     34489432   6095981611      34.489432   \n",
       "3529    HolaSoyGerman.      137     34480357   3617584451      34.480357   \n",
       "3621  JustinBieberVEVO      123     34284457  17806717170      34.284457   \n",
       "3627        Ed Sheeran      122     33961184  14521211040      33.961184   \n",
       "962    5-Minute Crafts     2085     33492951   8587520379      33.492951   \n",
       "120                WWE    36756     32852346  26273668433      32.852346   \n",
       "2596  whinderssonnunes      349     31332790   2574018722      31.332790   \n",
       "\n",
       "           views_m       views_p  \n",
       "644   18684.630003  27551.986311  \n",
       "275   47548.839843  25551.805926  \n",
       "1724  19291.034467  16471.370559  \n",
       "3264   6095.981611  14420.639336  \n",
       "3529   3617.584451  14416.856963  \n",
       "3621  17806.717170  14335.207727  \n",
       "3627  14521.211040  14200.470650  \n",
       "962    8587.520379  14005.315638  \n",
       "120   26273.668433  13738.317634  \n",
       "2596   2574.018722  13104.981306  "
      ]
     },
     "execution_count": 7,
     "metadata": {},
     "output_type": "execute_result"
    }
   ],
   "source": [
    "df['views_p'] = lm.predict(x) #use built-in predict() method to generate predictions; store in original dataframe\n",
    "df.head(10)"
   ]
  },
  {
   "cell_type": "markdown",
   "metadata": {},
   "source": [
    "Look at the last two columns. We see some reasonably correct predictions, and some that are completely off the mark. This will happen with every model. On Wednesday we will see how to evaluate model performance."
   ]
  }
 ],
 "metadata": {
  "kernelspec": {
   "display_name": "Python 3",
   "language": "python",
   "name": "python3"
  },
  "language_info": {
   "codemirror_mode": {
    "name": "ipython",
    "version": 3
   },
   "file_extension": ".py",
   "mimetype": "text/x-python",
   "name": "python",
   "nbconvert_exporter": "python",
   "pygments_lexer": "ipython3",
   "version": "3.7.3"
  }
 },
 "nbformat": 4,
 "nbformat_minor": 2
}
